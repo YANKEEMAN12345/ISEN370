{
 "cells": [
  {
   "cell_type": "code",
   "execution_count": 8,
   "id": "52562764-5dd5-488d-8e48-181157e3ff2a",
   "metadata": {},
   "outputs": [
    {
     "name": "stdout",
     "output_type": "stream",
     "text": [
      "EOQ Lot Sizing Heuristic:\n",
      "EOQ Lot Size: 179.81\n",
      " Period  Requirements  Production  Ending Inventory  Holding Cost\n",
      "      1            85         180                95          47.5\n",
      "      2            60           0                35          17.5\n",
      "      3            40         180               175          87.5\n",
      "      4           105           0                70          35.0\n",
      "      5           120         180               130          65.0\n",
      "      6            75           0                55          27.5\n",
      "Total Cost:  580.00\n"
     ]
    }
   ],
   "source": [
    "import pandas as pd\n",
    "import math\n",
    "\n",
    "def eoq_lot_sizing(requirements, setup_cost, holding_cost, initial_inventory):\n",
    "    periods = len(requirements)\n",
    "    lambda_mean = sum(requirements) / periods\n",
    "    eoq = math.sqrt((2 * setup_cost * lambda_mean) / holding_cost)\n",
    "\n",
    "    print(f\"EOQ Lot Size: {eoq:.2f}\")\n",
    "\n",
    "    ending_inventory = initial_inventory\n",
    "    total_cost = 0\n",
    "    production_plan = []\n",
    "    detailed_plan = []\n",
    "\n",
    "    for i in range(periods):\n",
    "        if ending_inventory < requirements[i]:\n",
    "            production_amount = math.ceil(eoq)\n",
    "            production_plan.append(production_amount)\n",
    "            total_cost += setup_cost\n",
    "        else:\n",
    "            production_amount = 0\n",
    "            production_plan.append(0)\n",
    "\n",
    "        ending_inventory += production_amount - requirements[i]\n",
    "        holding_cost_period = ending_inventory * holding_cost\n",
    "        total_cost += holding_cost_period\n",
    "        detailed_plan.append((i + 1, requirements[i], production_amount, ending_inventory, holding_cost_period))\n",
    "\n",
    "    df = pd.DataFrame(detailed_plan, columns=['Period', 'Requirements', 'Production', 'Ending Inventory', 'Holding Cost'])\n",
    "    return df, total_cost\n",
    "\n",
    "# Example usage\n",
    "requirements = [85, 60, 40, 105, 120, 75]\n",
    "setup_cost = 100\n",
    "holding_cost = 0.5\n",
    "initial_inventory = 0\n",
    "\n",
    "print(\"EOQ Lot Sizing Heuristic:\")\n",
    "df, cost = eoq_lot_sizing(requirements, setup_cost, holding_cost, initial_inventory)\n",
    "print(df.to_string(index=False))\n",
    "print(\"Total Cost: \", f'{cost:.2f}')\n"
   ]
  },
  {
   "cell_type": "code",
   "execution_count": null,
   "id": "1b0c85b9-e4ff-4749-b723-8a8d673bc4bb",
   "metadata": {},
   "outputs": [],
   "source": []
  }
 ],
 "metadata": {
  "kernelspec": {
   "display_name": "Python 3 (ipykernel)",
   "language": "python",
   "name": "python3"
  },
  "language_info": {
   "codemirror_mode": {
    "name": "ipython",
    "version": 3
   },
   "file_extension": ".py",
   "mimetype": "text/x-python",
   "name": "python",
   "nbconvert_exporter": "python",
   "pygments_lexer": "ipython3",
   "version": "3.11.7"
  }
 },
 "nbformat": 4,
 "nbformat_minor": 5
}
