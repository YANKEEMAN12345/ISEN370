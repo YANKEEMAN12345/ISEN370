{
 "cells": [
  {
   "cell_type": "code",
   "execution_count": 1,
   "id": "43e72afe-8362-49cc-be6d-fcdfe7961fb9",
   "metadata": {},
   "outputs": [
    {
     "name": "stdout",
     "output_type": "stream",
     "text": [
      "Estimated x: 8.382031825587624\n",
      "Estimated u: 1.005843819070515\n",
      " \n",
      "Estimated r: 0.12000000000000059\n",
      "Estimated u: 1.00584381907052\n",
      " \n",
      "Estimated a: 0.5800000000000002\n",
      "Estimated u: 1.005843819070515\n",
      " \n"
     ]
    }
   ],
   "source": [
    "import numpy as np\n",
    "from scipy.optimize import fsolve\n",
    "\n",
    "def func(x, r, a):\n",
    "    return r * x / (np.exp(r * x) - 1) - a\n",
    "\n",
    "def estimate_solution(r=None, a=None, x=None):\n",
    "    if sum(var is not None for var in [r, a, x]) != 2:\n",
    "        raise ValueError(\"Exactly 2 out of the 3 variables (r, a, x) must be provided.\")\n",
    "\n",
    "    if r is None:\n",
    "        # Solve for r\n",
    "        def equation_to_solve(r):\n",
    "            return func(x, r, a)\n",
    "\n",
    "        r = fsolve(equation_to_solve, 1)[0]\n",
    "        return r\n",
    "\n",
    "    if a is None:\n",
    "        # Solve for a\n",
    "        def equation_to_solve(a):\n",
    "            return func(x, r, a)\n",
    "\n",
    "        a = fsolve(equation_to_solve, 1)[0]\n",
    "        return a\n",
    "\n",
    "    if x is None:\n",
    "        # Solve for x\n",
    "        def equation_to_solve(x):\n",
    "            return func(x, r, a)\n",
    "\n",
    "        x = fsolve(equation_to_solve, 1)[0]\n",
    "        return x\n",
    "\n",
    "#Given r and a, estimate x\n",
    "r = 0.12\n",
    "a = 0.58\n",
    "x = estimate_solution(r=r, a=a)\n",
    "u = r * x\n",
    "print(\"Estimated x:\", x)\n",
    "print(\"Estimated u:\", u)\n",
    "print(\" \")\n",
    "\n",
    "# Given a and x, estimate r\n",
    "a = 0.58\n",
    "x = 8.382031825587624\n",
    "r = estimate_solution(a=a, x=x)\n",
    "u = r * x\n",
    "print(\"Estimated r:\", r)\n",
    "print(\"Estimated u:\", u)\n",
    "print(\" \")\n",
    "\n",
    "# Given r and x, estimate a\n",
    "r = 0.12\n",
    "x = 8.382031825587624\n",
    "a = estimate_solution(r=r, x=x)\n",
    "u = r * x\n",
    "print(\"Estimated a:\", a)\n",
    "print(\"Estimated u:\", u)\n",
    "print(\" \")\n"
   ]
  },
  {
   "cell_type": "code",
   "execution_count": 1,
   "id": "4b6e489c-02d7-4fdb-ad48-d995854cbde1",
   "metadata": {},
   "outputs": [
    {
     "name": "stdout",
     "output_type": "stream",
     "text": [
      "Estimated x: 3.6924596810939954\n",
      "Estimated u: 0.5538689521640993\n",
      " \n"
     ]
    }
   ],
   "source": [
    "import numpy as np\n",
    "from scipy.optimize import fsolve\n",
    "\n",
    "def func(x, r, a):\n",
    "    return r * x / (np.exp(r * x) - 1) - a\n",
    "\n",
    "def estimate_solution(r=None, a=None, x=None):\n",
    "    if sum(var is not None for var in [r, a, x]) != 2:\n",
    "        raise ValueError(\"Exactly 2 out of the 3 variables (r, a, x) must be provided.\")\n",
    "\n",
    "    if r is None:\n",
    "        # Solve for r\n",
    "        def equation_to_solve(r):\n",
    "            return func(x, r, a)\n",
    "\n",
    "        r = fsolve(equation_to_solve, 1)[0]\n",
    "        return r\n",
    "\n",
    "    if a is None:\n",
    "        # Solve for a\n",
    "        def equation_to_solve(a):\n",
    "            return func(x, r, a)\n",
    "\n",
    "        a = fsolve(equation_to_solve, 1)[0]\n",
    "        return a\n",
    "\n",
    "    if x is None:\n",
    "        # Solve for x\n",
    "        def equation_to_solve(x):\n",
    "            return func(x, r, a)\n",
    "\n",
    "        x = fsolve(equation_to_solve, 1)[0]\n",
    "        return x\n",
    "\n",
    "#Given r and a, estimate x\n",
    "r = 0.15\n",
    "a = 0.7485\n",
    "x = estimate_solution(r=r, a=a)\n",
    "u = r * x\n",
    "print(\"Estimated x:\", x)\n",
    "print(\"Estimated u:\", u)\n",
    "print(\" \")\n"
   ]
  },
  {
   "cell_type": "code",
   "execution_count": null,
   "id": "3606caf2-9e25-4a65-bcff-601360079cf9",
   "metadata": {},
   "outputs": [],
   "source": []
  }
 ],
 "metadata": {
  "kernelspec": {
   "display_name": "Python 3 (ipykernel)",
   "language": "python",
   "name": "python3"
  },
  "language_info": {
   "codemirror_mode": {
    "name": "ipython",
    "version": 3
   },
   "file_extension": ".py",
   "mimetype": "text/x-python",
   "name": "python",
   "nbconvert_exporter": "python",
   "pygments_lexer": "ipython3",
   "version": "3.11.5"
  }
 },
 "nbformat": 4,
 "nbformat_minor": 5
}
