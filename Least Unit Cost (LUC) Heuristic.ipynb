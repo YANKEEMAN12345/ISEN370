{
 "cells": [
  {
   "cell_type": "code",
   "execution_count": 2,
   "id": "822c7289-6002-47e3-a44a-9ca9de941501",
   "metadata": {},
   "outputs": [
    {
     "name": "stdout",
     "output_type": "stream",
     "text": [
      "Least Unit Cost with Initial Inventory:\n",
      " Period  Requirements  Production  Ending Inventory\n",
      "      1             2          26                24\n",
      "      2            12           0                12\n",
      "      3             4           0                 8\n",
      "      4             8           0                 0\n",
      "      5            15          40                25\n",
      "      6            25           0                 0\n",
      "      7            20          25                 5\n",
      "      8             5           0                 0\n",
      "      9            10          35                25\n",
      "     10            20           0                 5\n",
      "     11             5           0                 0\n",
      "     12            20          20                 0\n",
      "Total Cost:  304\n"
     ]
    }
   ],
   "source": [
    "import pandas as pd\n",
    "\n",
    "def least_unit_cost(requirements, setup_cost, holding_cost, initial_inventory):\n",
    "    periods = len(requirements)\n",
    "\n",
    "    i = 0\n",
    "    ending_inventory = 0\n",
    "    total_cost = 0\n",
    "    detailed_plan = []\n",
    "\n",
    "    # Adjust the first period's requirement based on initial inventory\n",
    "    if periods > 0:\n",
    "        effective_requirement = max(0, requirements[0] - initial_inventory)\n",
    "        requirements = [effective_requirement] + requirements[1:]\n",
    "\n",
    "    while i < periods:\n",
    "        min_cost = float('inf')\n",
    "        best_j = i\n",
    "        cumulative_demand = 0\n",
    "\n",
    "        for j in range(i, periods):\n",
    "            cumulative_demand += requirements[j]\n",
    "            holding_costs = sum(holding_cost * (k - i) * requirements[k] for k in range(i+1, j+1))\n",
    "            luc_cost = (setup_cost + holding_costs) / cumulative_demand\n",
    "\n",
    "            if luc_cost > min_cost:\n",
    "                break\n",
    "\n",
    "            min_cost = luc_cost\n",
    "            best_j = j\n",
    "\n",
    "        total_production = sum(requirements[i:best_j+1])\n",
    "\n",
    "        if total_production > 0:\n",
    "            total_cost += setup_cost  # Add setup cost once for the batch\n",
    "\n",
    "            for k in range(i, best_j+1):\n",
    "                if k == i:\n",
    "                    production_amount = total_production\n",
    "                else:\n",
    "                    production_amount = 0\n",
    "\n",
    "                inventory_cost = ending_inventory * holding_cost\n",
    "                total_cost += inventory_cost\n",
    "                ending_inventory += production_amount - requirements[k]\n",
    "                ending_inventory = max(0, ending_inventory)\n",
    "\n",
    "                detailed_plan.append((k + 1, requirements[k], production_amount, ending_inventory))\n",
    "\n",
    "        i = best_j + 1\n",
    "\n",
    "    df = pd.DataFrame(detailed_plan, columns=['Period', 'Requirements', 'Production', 'Ending Inventory'])\n",
    "    return df, total_cost\n",
    "\n",
    "# Example usage\n",
    "requirements = [6, 12, 4, 8, 15, 25, 20, 5, 10, 20, 5, 20]\n",
    "setup_cost = 40\n",
    "holding_cost = 1\n",
    "initial_inventory = 4\n",
    "\n",
    "print(\"Least Unit Cost with Initial Inventory:\")\n",
    "df, cost = least_unit_cost(requirements, setup_cost, holding_cost, initial_inventory)\n",
    "print(df.to_string(index=False))\n",
    "print(\"Total Cost: \", cost)"
   ]
  },
  {
   "cell_type": "code",
   "execution_count": null,
   "id": "c2cb4d6f-53cb-47ec-a23c-9ad34168ec1e",
   "metadata": {},
   "outputs": [],
   "source": []
  }
 ],
 "metadata": {
  "kernelspec": {
   "display_name": "Python 3 (ipykernel)",
   "language": "python",
   "name": "python3"
  },
  "language_info": {
   "codemirror_mode": {
    "name": "ipython",
    "version": 3
   },
   "file_extension": ".py",
   "mimetype": "text/x-python",
   "name": "python",
   "nbconvert_exporter": "python",
   "pygments_lexer": "ipython3",
   "version": "3.11.5"
  }
 },
 "nbformat": 4,
 "nbformat_minor": 5
}
