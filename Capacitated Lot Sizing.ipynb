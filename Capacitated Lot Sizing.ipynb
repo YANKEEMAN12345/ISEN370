{
 "cells": [
  {
   "cell_type": "code",
   "execution_count": 1,
   "id": "8923ed73-0e55-423b-b0b3-35e4294ba10a",
   "metadata": {},
   "outputs": [
    {
     "name": "stdout",
     "output_type": "stream",
     "text": [
      " Period  Requirements  Proposed Production  Ending Inventory\n",
      "      1            85                   85                 0\n",
      "      2            60                   60                 0\n",
      "      3            40                   65                25\n",
      "      4           105                  100                20\n",
      "      5           120                  100                 0\n",
      "      6            75                   75                 0\n",
      "\n",
      "Total Setup Costs: $600.00\n",
      "Total Holding Costs: $22.50\n",
      "Total Cost: $622.50\n"
     ]
    }
   ],
   "source": [
    "import pandas as pd\n",
    "\n",
    "# Input requirements and capacities\n",
    "requirements = [85, 60, 40, 105, 120, 75]\n",
    "capacities = [100, 100, 100, 100, 100, 100]\n",
    "setup_cost = 100  # Cost for setting up production in any period\n",
    "holding_cost = 0.5  # Cost per unit of inventory held at the end of the period\n",
    "\n",
    "n = len(requirements)\n",
    "adjusted_requirements = requirements.copy()\n",
    "production = [0] * n\n",
    "inventory = [0] * n\n",
    "total_setup_costs = 0\n",
    "total_holding_costs = 0\n",
    "\n",
    "# Back-shift demand where necessary\n",
    "for i in range(n):\n",
    "    if adjusted_requirements[i] > capacities[i]:\n",
    "        excess_demand = adjusted_requirements[i] - capacities[i]\n",
    "        adjusted_requirements[i] = capacities[i]\n",
    "        # Distribute excess demand backwards to periods with available capacity\n",
    "        for j in range(i-1, -1, -1):\n",
    "            available_capacity = capacities[j] - adjusted_requirements[j]\n",
    "            if available_capacity >= excess_demand:\n",
    "                adjusted_requirements[j] += excess_demand\n",
    "                excess_demand = 0\n",
    "                break\n",
    "            else:\n",
    "                adjusted_requirements[j] += available_capacity\n",
    "                excess_demand -= available_capacity\n",
    "\n",
    "# Calculate production and inventory based on adjusted requirements\n",
    "for i in range(n):\n",
    "    production[i] = min(adjusted_requirements[i], capacities[i])\n",
    "    if production[i] > 0:\n",
    "        total_setup_costs += setup_cost\n",
    "    if i == 0:\n",
    "        inventory[i] = production[i] - requirements[i]\n",
    "    else:\n",
    "        inventory[i] = inventory[i-1] + production[i] - requirements[i]\n",
    "    inventory[i] = max(0, inventory[i])\n",
    "    total_holding_costs += inventory[i] * holding_cost\n",
    "\n",
    "total_cost = total_setup_costs + total_holding_costs\n",
    "\n",
    "# Prepare data for DataFrame\n",
    "data = {\n",
    "    'Period': range(1, n+1),\n",
    "    'Requirements': requirements,\n",
    "    'Proposed Production': production,\n",
    "    'Ending Inventory': inventory\n",
    "}\n",
    "\n",
    "# Create DataFrame\n",
    "df = pd.DataFrame(data)\n",
    "\n",
    "# Display DataFrame\n",
    "print(df.to_string(index=False))\n",
    "\n",
    "print(f\"\\nTotal Setup Costs: ${total_setup_costs:.2f}\")\n",
    "print(f\"Total Holding Costs: ${total_holding_costs:.2f}\")\n",
    "print(f\"Total Cost: ${total_cost:.2f}\")\n"
   ]
  },
  {
   "cell_type": "code",
   "execution_count": null,
   "id": "e169d556-7d99-42ea-8c57-a422febc9026",
   "metadata": {},
   "outputs": [],
   "source": []
  }
 ],
 "metadata": {
  "kernelspec": {
   "display_name": "Python 3 (ipykernel)",
   "language": "python",
   "name": "python3"
  },
  "language_info": {
   "codemirror_mode": {
    "name": "ipython",
    "version": 3
   },
   "file_extension": ".py",
   "mimetype": "text/x-python",
   "name": "python",
   "nbconvert_exporter": "python",
   "pygments_lexer": "ipython3",
   "version": "3.11.5"
  }
 },
 "nbformat": 4,
 "nbformat_minor": 5
}
