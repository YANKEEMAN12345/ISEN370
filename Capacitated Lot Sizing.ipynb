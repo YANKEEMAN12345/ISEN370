{
 "cells": [
  {
   "cell_type": "code",
   "execution_count": 2,
   "id": "2595c8b6-4168-47ad-9f0d-7f1f69ad34f9",
   "metadata": {},
   "outputs": [
    {
     "name": "stdout",
     "output_type": "stream",
     "text": [
      "Capacitated Lot Sizing Heuristic:\n",
      " Period  Requirements  Production  Ending Inventory\n",
      "      1            85          85                 0\n",
      "      2            60          60                 0\n",
      "      3            40          65                25\n",
      "      4           105         100                20\n",
      "      5           120         100                 0\n",
      "      6            75          75                 0\n",
      "Total Cost:  1822.5\n"
     ]
    }
   ],
   "source": [
    "import pandas as pd\n",
    "\n",
    "def capacitated_lot_sizing(requirements, setup_cost, holding_cost, initial_inventory, production_capacity):\n",
    "    periods = len(requirements)\n",
    "    production_plan = requirements.copy()\n",
    "    ending_inventory = initial_inventory\n",
    "    total_cost = 0\n",
    "    detailed_plan = []\n",
    "\n",
    "    # Initial Lot-for-Lot production plan\n",
    "    for i in range(periods):\n",
    "        production_amount = requirements[i]\n",
    "        ending_inventory += production_amount - requirements[i]\n",
    "        detailed_plan.append((i + 1, requirements[i], production_amount, ending_inventory))\n",
    "\n",
    "    # Adjust production to meet capacity constraints\n",
    "    for i in range(periods):\n",
    "        if production_plan[i] > production_capacity:\n",
    "            excess = production_plan[i] - production_capacity\n",
    "            production_plan[i] = production_capacity\n",
    "\n",
    "            # Shift excess to previous periods\n",
    "            for j in range(i - 1, -1, -1):\n",
    "                available_capacity = production_capacity - production_plan[j]\n",
    "                if available_capacity >= excess:\n",
    "                    production_plan[j] += excess\n",
    "                    excess = 0\n",
    "                    break\n",
    "                else:\n",
    "                    production_plan[j] += available_capacity\n",
    "                    excess -= available_capacity\n",
    "\n",
    "    # Recalculate the ending inventory and cost with the adjusted plan\n",
    "    ending_inventory = initial_inventory\n",
    "    for i in range(periods):\n",
    "        production_amount = production_plan[i]\n",
    "        inventory_cost = ending_inventory * holding_cost\n",
    "        total_cost += inventory_cost + (setup_cost if production_amount > 0 else 0)\n",
    "        ending_inventory += production_amount - requirements[i]\n",
    "        detailed_plan[i] = (i + 1, requirements[i], production_amount, ending_inventory)\n",
    "\n",
    "    df = pd.DataFrame(detailed_plan, columns=['Period', 'Requirements', 'Production', 'Ending Inventory'])\n",
    "    return df, total_cost\n",
    "\n",
    "# Example usage\n",
    "requirements = [85, 60, 40, 105, 120, 75]\n",
    "setup_cost = 300\n",
    "holding_cost = 0.5\n",
    "initial_inventory = 0\n",
    "production_capacity = 100\n",
    "\n",
    "print(\"Capacitated Lot Sizing Heuristic:\")\n",
    "df, cost = capacitated_lot_sizing(requirements, setup_cost, holding_cost, initial_inventory, production_capacity)\n",
    "print(df.to_string(index=False))\n",
    "print(\"Total Cost: \", cost)\n"
   ]
  },
  {
   "cell_type": "code",
   "execution_count": null,
   "id": "ed760de1-5736-4fe2-8ab4-8230f6895284",
   "metadata": {},
   "outputs": [],
   "source": []
  }
 ],
 "metadata": {
  "kernelspec": {
   "display_name": "Python 3 (ipykernel)",
   "language": "python",
   "name": "python3"
  },
  "language_info": {
   "codemirror_mode": {
    "name": "ipython",
    "version": 3
   },
   "file_extension": ".py",
   "mimetype": "text/x-python",
   "name": "python",
   "nbconvert_exporter": "python",
   "pygments_lexer": "ipython3",
   "version": "3.11.7"
  }
 },
 "nbformat": 4,
 "nbformat_minor": 5
}
