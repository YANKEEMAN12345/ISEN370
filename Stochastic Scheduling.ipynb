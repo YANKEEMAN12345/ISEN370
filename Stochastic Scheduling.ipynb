{
 "cells": [
  {
   "cell_type": "code",
   "execution_count": 4,
   "id": "1b6bf55c-93f0-46d3-a98b-deca912b94e0",
   "metadata": {},
   "outputs": [
    {
     "name": "stdout",
     "output_type": "stream",
     "text": [
      "Sorted Job order:\n",
      "\n",
      " Job  Expected Time A  Expected Time B  Rate A  Rate B  Differences\n",
      "   2                1                6    1.00   0.170        0.830\n",
      "   4                3                8    0.33   0.125        0.205\n",
      "   3                9                7    0.11   0.140       -0.030\n",
      "   5               10                4    0.10   0.250       -0.150\n",
      "   1                5                2    0.20   0.500       -0.300\n"
     ]
    }
   ],
   "source": [
    "import pandas as pd\n",
    "\n",
    "# Define the job data\n",
    "jobs_data = [\n",
    "    {\"Job\": 1, \"Expected Time A\": 5, \"Expected Time B\": 2, \"Rate A\": 0.20, \"Rate B\": 0.50},\n",
    "    {\"Job\": 2, \"Expected Time A\": 1, \"Expected Time B\": 6, \"Rate A\": 1.00, \"Rate B\": 0.170},\n",
    "    {\"Job\": 3, \"Expected Time A\": 9, \"Expected Time B\": 7, \"Rate A\": 0.11, \"Rate B\": 0.140},\n",
    "    {\"Job\": 4, \"Expected Time A\": 3, \"Expected Time B\": 8, \"Rate A\": 0.33, \"Rate B\": 0.125},\n",
    "    {\"Job\": 5, \"Expected Time A\": 3, \"Expected Time B\": 8, \"Rate A\": 0.33, \"Rate B\": 0.125},\n",
    "    {\"Job\": 6, \"Expected Time A\": 3, \"Expected Time B\": 8, \"Rate A\": 0.33, \"Rate B\": 0.125},\n",
    "    {\"Job\": 7, \"Expected Time A\": 10, \"Expected Time B\": 4, \"Rate A\": 0.10, \"Rate B\": 0.250}\n",
    "]\n",
    "\n",
    "# Calculate differences\n",
    "for job in jobs_data:\n",
    "    job[\"Differences\"] = job[\"Rate A\"] - job[\"Rate B\"]\n",
    "\n",
    "# Create DataFrame\n",
    "df = pd.DataFrame(jobs_data)\n",
    "\n",
    "# Sort DataFrame by differences in descending order\n",
    "df = df.sort_values(by=\"Differences\", ascending=False)\n",
    "\n",
    "# Display the DataFrame\n",
    "print(\"Sorted Job order:\\n\")\n",
    "print(df.to_string(index=False))\n"
   ]
  },
  {
   "cell_type": "code",
   "execution_count": null,
   "id": "eeb3e6a4-292a-41c9-9e0e-5ec5ed789f99",
   "metadata": {},
   "outputs": [],
   "source": []
  }
 ],
 "metadata": {
  "kernelspec": {
   "display_name": "Python 3 (ipykernel)",
   "language": "python",
   "name": "python3"
  },
  "language_info": {
   "codemirror_mode": {
    "name": "ipython",
    "version": 3
   },
   "file_extension": ".py",
   "mimetype": "text/x-python",
   "name": "python",
   "nbconvert_exporter": "python",
   "pygments_lexer": "ipython3",
   "version": "3.11.5"
  }
 },
 "nbformat": 4,
 "nbformat_minor": 5
}
