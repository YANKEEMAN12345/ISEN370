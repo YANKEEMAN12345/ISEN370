{
 "cells": [
  {
   "cell_type": "code",
   "execution_count": 5,
   "id": "f41a7307-c9a3-4c8c-bb50-c19a25cef7ed",
   "metadata": {},
   "outputs": [
    {
     "name": "stdout",
     "output_type": "stream",
     "text": [
      "Job  Processing Time  Flow Time  Due Date  Tardiness\n",
      " 1          4             4          8        0     \n",
      " 3          2             6         10        0     \n",
      " 4          1             7         12        0     \n",
      " 2         10            17         15        2     \n",
      " 5          8            25         20        5     \n"
     ]
    }
   ],
   "source": [
    "import pandas as pd\n",
    "\n",
    "class Task:\n",
    "    def __init__(self, id, duration, due_date):\n",
    "        self.id = id\n",
    "        self.duration = duration\n",
    "        self.due_date = due_date\n",
    "        self.predecessors = []\n",
    "\n",
    "def add_precedence_constraint(tasks, constraint):\n",
    "    for i in range(len(constraint) - 1):\n",
    "        task1_id, task2_id = constraint[i], constraint[i + 1]\n",
    "        task1 = next(task for task in tasks if task.id == task1_id)\n",
    "        task2 = next(task for task in tasks if task.id == task2_id)\n",
    "        task2.predecessors.append(task1)\n",
    "\n",
    "def lawler_algorithm(tasks):\n",
    "    unassigned_tasks = tasks.copy()\n",
    "    scheduled_tasks = []\n",
    "\n",
    "    while unassigned_tasks:\n",
    "        ready_tasks = [task for task in unassigned_tasks if all(pred in scheduled_tasks for pred in task.predecessors)]\n",
    "        earliest_task = min(ready_tasks, key=lambda x: x.due_date)\n",
    "        scheduled_tasks.append(earliest_task)\n",
    "        unassigned_tasks.remove(earliest_task)\n",
    "\n",
    "    return scheduled_tasks\n",
    "\n",
    "def calculate_flow_time(task, scheduled_tasks):\n",
    "    flow_time = 0\n",
    "    for t in scheduled_tasks:\n",
    "        if t.id <= task.id:\n",
    "            flow_time += t.duration\n",
    "    return flow_time\n",
    "\n",
    "def calculate_tardiness(flow_time, due_date):\n",
    "    tardiness = max(flow_time - due_date, 0)\n",
    "    return tardiness\n",
    "\n",
    "def main():\n",
    "    jobs = [\n",
    "        {'Job': '1', 'Processing time': 4, 'Due Date': 8},\n",
    "        {'Job': '2', 'Processing time': 10, 'Due Date': 15},\n",
    "        {'Job': '3', 'Processing time': 2, 'Due Date': 10},\n",
    "        {'Job': '4', 'Processing time': 1, 'Due Date': 12},\n",
    "        {'Job': '5', 'Processing time': 8, 'Due Date': 20}\n",
    "    ]\n",
    "\n",
    "    constraints = [('3','2','5')]\n",
    "\n",
    "    tasks = [Task(job['Job'], job['Processing time'], job['Due Date']) for job in jobs]\n",
    "\n",
    "    for constraint in constraints:\n",
    "        add_precedence_constraint(tasks, constraint)\n",
    "\n",
    "    scheduled_tasks = lawler_algorithm(tasks)\n",
    "\n",
    "    data = []\n",
    "    flow_time = 0\n",
    "    for task in scheduled_tasks:\n",
    "        flow_time += task.duration\n",
    "        tardiness = calculate_tardiness(flow_time, task.due_date)\n",
    "        data.append([task.id, task.duration, flow_time, task.due_date, tardiness])\n",
    "\n",
    "    df = pd.DataFrame(data, columns=['Job', 'Processing Time', 'Flow Time', 'Due Date', 'Tardiness'])\n",
    "\n",
    "    # Set display options to center align text\n",
    "    pd.set_option('colheader_justify', 'center')\n",
    "    pd.set_option('display.expand_frame_repr', False)\n",
    "\n",
    "    print(df.to_string(index=False))\n",
    "\n",
    "if __name__ == \"__main__\":\n",
    "    main()\n"
   ]
  },
  {
   "cell_type": "code",
   "execution_count": null,
   "id": "569233a1-85ed-426d-978b-674ec3179f4d",
   "metadata": {},
   "outputs": [],
   "source": []
  }
 ],
 "metadata": {
  "kernelspec": {
   "display_name": "Python 3 (ipykernel)",
   "language": "python",
   "name": "python3"
  },
  "language_info": {
   "codemirror_mode": {
    "name": "ipython",
    "version": 3
   },
   "file_extension": ".py",
   "mimetype": "text/x-python",
   "name": "python",
   "nbconvert_exporter": "python",
   "pygments_lexer": "ipython3",
   "version": "3.11.5"
  }
 },
 "nbformat": 4,
 "nbformat_minor": 5
}
