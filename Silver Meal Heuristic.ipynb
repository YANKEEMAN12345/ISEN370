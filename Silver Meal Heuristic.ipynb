{
 "cells": [
  {
   "cell_type": "code",
   "execution_count": 1,
   "id": "f7615388-60ea-40f7-8067-8e2b8465f9d5",
   "metadata": {},
   "outputs": [
    {
     "name": "stdout",
     "output_type": "stream",
     "text": [
      "Silver Meal Lot Sizing Heuristic:\n",
      " Period  Requirements  Production  Ending Inventory\n",
      "      1           335         675               340\n",
      "      2           200           0               140\n",
      "      3           140           0                 0\n",
      "      4           440         940               500\n",
      "      5           300           0               200\n",
      "      6           200           0                 0\n",
      "Total Cost:  754.0\n"
     ]
    }
   ],
   "source": [
    "import pandas as pd\n",
    "\n",
    "def silver_meal(requirements, setup_cost, holding_cost, initial_inventory):\n",
    "    periods = len(requirements)\n",
    "    i = 0\n",
    "    ending_inventory = 0\n",
    "    total_cost = 0\n",
    "    detailed_plan = []\n",
    "    \n",
    "    # Adjust the first period's requirement based on initial inventory\n",
    "    if periods > 0:\n",
    "        effective_requirement = max(0, requirements[0] - initial_inventory)\n",
    "        requirements = [effective_requirement] + requirements[1:]\n",
    "    \n",
    "    while i < periods:\n",
    "        min_cost = float('inf')\n",
    "        best_j = i\n",
    "        cumulative_demand = 0\n",
    "        \n",
    "        for j in range(i, periods):\n",
    "            cumulative_demand += requirements[j]\n",
    "            period_cost = setup_cost + sum(holding_cost * (k - i) * requirements[k] for k in range(i+1, j+1))\n",
    "            average_cost = period_cost / (j - i + 1)\n",
    "            \n",
    "            if average_cost > min_cost:\n",
    "                break\n",
    "            \n",
    "            min_cost = average_cost\n",
    "            best_j = j\n",
    "        \n",
    "        total_production = sum(requirements[i:best_j+1])\n",
    "        \n",
    "        if total_production > 0:\n",
    "            total_cost += setup_cost  # Add setup cost once for the batch\n",
    "            \n",
    "        for k in range(i, best_j+1):\n",
    "            if k == i:\n",
    "                production_amount = total_production\n",
    "            else:\n",
    "                production_amount = 0\n",
    "            \n",
    "            inventory_cost = ending_inventory * holding_cost\n",
    "            total_cost += inventory_cost\n",
    "            ending_inventory += production_amount - requirements[k]\n",
    "            ending_inventory = max(0, ending_inventory)\n",
    "            detailed_plan.append((k + 1, requirements[k], production_amount, ending_inventory))\n",
    "        \n",
    "        i = best_j + 1\n",
    "    \n",
    "    df = pd.DataFrame(detailed_plan, columns=['Period', 'Requirements', 'Production', 'Ending Inventory'])\n",
    "    return df, total_cost\n",
    "\n",
    "# Example usage\n",
    "requirements = [335,200,140,440,300,200]\n",
    "setup_cost = 200\n",
    "holding_cost = 0.3\n",
    "initial_inventory = 0\n",
    "\n",
    "print(\"Silver Meal Lot Sizing Heuristic:\")\n",
    "df, cost = silver_meal(requirements, setup_cost, holding_cost, initial_inventory)\n",
    "print(df.to_string(index=False))\n",
    "print(\"Total Cost: \", cost)\n"
   ]
  },
  {
   "cell_type": "code",
   "execution_count": null,
   "id": "105c6f69-385b-42d7-8b8a-0890d3b999cb",
   "metadata": {},
   "outputs": [],
   "source": []
  }
 ],
 "metadata": {
  "kernelspec": {
   "display_name": "Python 3 (ipykernel)",
   "language": "python",
   "name": "python3"
  },
  "language_info": {
   "codemirror_mode": {
    "name": "ipython",
    "version": 3
   },
   "file_extension": ".py",
   "mimetype": "text/x-python",
   "name": "python",
   "nbconvert_exporter": "python",
   "pygments_lexer": "ipython3",
   "version": "3.11.5"
  }
 },
 "nbformat": 4,
 "nbformat_minor": 5
}
