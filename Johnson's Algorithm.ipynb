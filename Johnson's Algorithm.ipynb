{
 "cells": [
  {
   "cell_type": "markdown",
   "id": "531af8d1-9186-47ef-9a81-03959a0dc627",
   "metadata": {},
   "source": [
    "# Two Machines"
   ]
  },
  {
   "cell_type": "code",
   "execution_count": 66,
   "id": "2fa720cd-e7d9-47b7-a4ce-aef7f4188d32",
   "metadata": {},
   "outputs": [
    {
     "name": "stdout",
     "output_type": "stream",
     "text": [
      "Optimal Job Order:\n",
      "2 4 3 5 1\n"
     ]
    }
   ],
   "source": [
    "def johnsons_algorithm(jobs):\n",
    "    # Sort the jobs based on the minimum processing time\n",
    "    jobs.sort(key=lambda x: min(x['Machine A'], x['Machine B']))\n",
    "    \n",
    "    schedule = ['__'] * len(jobs)  # Initialize the schedule with placeholders\n",
    "    \n",
    "    # Initialize pointers for the first and last available spots\n",
    "    first_available = 0\n",
    "    last_available = len(jobs) - 1\n",
    "    \n",
    "    while jobs:\n",
    "        # Find the job with the minimum processing time\n",
    "        min_job = min(jobs, key=lambda x: min(x['Machine A'], x['Machine B']))\n",
    "        min_index = jobs.index(min_job)\n",
    "        \n",
    "        # Determine which machine has the minimum processing time\n",
    "        if min_job['Machine A'] <= min_job['Machine B']:\n",
    "            # Schedule the job in the first available position\n",
    "            schedule[first_available] = min_job['Job']\n",
    "            first_available += 1\n",
    "        else:\n",
    "            # Schedule the job in the last available position\n",
    "            schedule[last_available] = min_job['Job']\n",
    "            last_available -= 1\n",
    "        \n",
    "        # Remove the scheduled job from the list\n",
    "        del jobs[min_index]\n",
    "    \n",
    "    return schedule\n",
    "\n",
    "# Dictionary of jobs and machines\n",
    "jobs = [\n",
    "    {'Job': 1, 'Machine A': 5, 'Machine B': 2},\n",
    "    {'Job': 2, 'Machine A': 1, 'Machine B': 6},\n",
    "    {'Job': 3, 'Machine A': 9, 'Machine B': 7},\n",
    "    {'Job': 4, 'Machine A': 3, 'Machine B': 8},\n",
    "    {'Job': 5, 'Machine A': 10, 'Machine B': 4}\n",
    "]\n",
    "\n",
    "schedule = johnsons_algorithm(jobs)\n",
    "print(\"Optimal Job Order:\")\n",
    "print(' '.join(map(str, schedule)))\n"
   ]
  },
  {
   "cell_type": "markdown",
   "id": "ce9f06b7-9f91-4d07-bd96-3fd30998dd30",
   "metadata": {},
   "source": [
    "# Three Machines"
   ]
  },
  {
   "cell_type": "code",
   "execution_count": 1,
   "id": "79854f52-c8a4-4e4c-ad1b-ace4a26cb856",
   "metadata": {},
   "outputs": [
    {
     "name": "stdout",
     "output_type": "stream",
     "text": [
      "min_A >= max_B or min_C >= max_B condition(s) not met\n",
      "Optimal Job Order:\n",
      "4 5 3 2 1\n"
     ]
    }
   ],
   "source": [
    "def convert_to_two_machine_problem(jobs):\n",
    "    min_A = min(job['Machine A'] for job in jobs)\n",
    "    max_B = max(job['Machine B'] for job in jobs)\n",
    "    min_C = min(job['Machine C'] for job in jobs)\n",
    "    \n",
    "    if min_A >= max_B or min_C >= max_B:\n",
    "        # Convert to a two-machine problem\n",
    "        jobs_prime = []\n",
    "        for job in jobs:\n",
    "            job_prime = {\n",
    "                'Job': job['Job'],\n",
    "                'Machine A': job['Machine A'] + job['Machine B'],\n",
    "                'Machine B': job['Machine B'] + job['Machine C']\n",
    "            }\n",
    "            jobs_prime.append(job_prime)\n",
    "        return jobs_prime\n",
    "    else:\n",
    "        print(\"min_A >= max_B or min_C >= max_B condition(s) not met\")\n",
    "        return jobs\n",
    "\n",
    "def johnsons_algorithm(jobs):\n",
    "    # Sort the jobs based on the minimum processing time\n",
    "    jobs.sort(key=lambda x: min(x['Machine A'], x['Machine B']))\n",
    "    \n",
    "    schedule = ['__'] * len(jobs)  # Initialize the schedule with placeholders\n",
    "    \n",
    "    # Initialize pointers for the first and last available spots\n",
    "    first_available = 0\n",
    "    last_available = len(jobs) - 1\n",
    "    \n",
    "    while jobs:\n",
    "        # Find the job with the minimum processing time\n",
    "        min_job = min(jobs, key=lambda x: min(x['Machine A'], x['Machine B']))\n",
    "        min_index = jobs.index(min_job)\n",
    "        \n",
    "        # Determine which machine has the minimum processing time\n",
    "        if min_job['Machine A'] <= min_job['Machine B']:\n",
    "            # Schedule the job in the first available position\n",
    "            schedule[first_available] = min_job['Job']\n",
    "            first_available += 1\n",
    "        else:\n",
    "            # Schedule the job in the last available position\n",
    "            schedule[last_available] = min_job['Job']\n",
    "            last_available -= 1\n",
    "        \n",
    "        # Remove the scheduled job from the list\n",
    "        del jobs[min_index]\n",
    "    \n",
    "    return schedule\n",
    "\n",
    "# Dictionary of jobs and machines\n",
    "jobs = [\n",
    "    {'Job': 1, 'Machine A': 1.8, 'Machine B': 0.4, 'Machine C': 2.1},\n",
    "    {'Job': 2, 'Machine A': 1.3, 'Machine B': 0.5, 'Machine C': 1.1},\n",
    "    {'Job': 3, 'Machine A': 1.9, 'Machine B': 1.1, 'Machine C': 0.9},\n",
    "    {'Job': 4, 'Machine A': 0.7, 'Machine B': 1.4, 'Machine C': 1.4},\n",
    "    {'Job': 5, 'Machine A': 1.0, 'Machine B': 1.6, 'Machine C': 1.7}\n",
    "]\n",
    "\n",
    "converted_jobs = convert_to_two_machine_problem(jobs)\n",
    "schedule = johnsons_algorithm(converted_jobs)\n",
    "print(\"Optimal Job Order:\")\n",
    "print(' '.join(map(str, schedule)))\n"
   ]
  },
  {
   "cell_type": "code",
   "execution_count": null,
   "id": "44b8551d-6040-421f-affc-cdef6f9e82f7",
   "metadata": {},
   "outputs": [],
   "source": []
  }
 ],
 "metadata": {
  "kernelspec": {
   "display_name": "Python 3 (ipykernel)",
   "language": "python",
   "name": "python3"
  },
  "language_info": {
   "codemirror_mode": {
    "name": "ipython",
    "version": 3
   },
   "file_extension": ".py",
   "mimetype": "text/x-python",
   "name": "python",
   "nbconvert_exporter": "python",
   "pygments_lexer": "ipython3",
   "version": "3.11.5"
  }
 },
 "nbformat": 4,
 "nbformat_minor": 5
}
