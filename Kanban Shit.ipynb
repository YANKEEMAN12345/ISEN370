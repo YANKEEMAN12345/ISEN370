{
 "cells": [
  {
   "cell_type": "code",
   "execution_count": 9,
   "id": "d9ed90dd-3e67-4f1d-93a5-28e3a7701d69",
   "metadata": {},
   "outputs": [
    {
     "name": "stdout",
     "output_type": "stream",
     "text": [
      "Total number of kanban tickets required: 82.8\n",
      "Maximum WIP inventory: 1242\n"
     ]
    }
   ],
   "source": [
    "monthly_production = 1200  # lamps\n",
    "lead_time = 18  # days\n",
    "buffer_stock_percentage = .15  # percent\n",
    "container_capacity = 15  # lamps per container\n",
    "working_days_per_month = 20  # days\n",
    "\n",
    "# Step 1: Calculate demand rate per day\n",
    "D_bar = monthly_production / working_days_per_month\n",
    "\n",
    "# Step 2: Calculate w, the level of buffer stock (percent of D_bar * Lead time)\n",
    "w = buffer_stock_percentage * (D_bar*lead_time)\n",
    "\n",
    "# Step 3: Calculate the total number of kanban tickets required, y\n",
    "y = ((D_bar * lead_time) + w) / container_capacity\n",
    "\n",
    "\n",
    "# Step 4: Calculate the maximum Work In Progress (WIP) inventory\n",
    "max_wip_inventory = containers_needed * (1 + (buffer_stock_percentage))\n",
    "\n",
    "\n",
    "# Output the results\n",
    "print(\"Total number of kanban tickets required:\", y)\n",
    "print(\"Maximum WIP inventory:\", int(max_wip_inventory))\n",
    "\n",
    "\n"
   ]
  },
  {
   "cell_type": "code",
   "execution_count": null,
   "id": "e2045a23-689e-4469-a1ed-a62c956742ca",
   "metadata": {},
   "outputs": [],
   "source": []
  }
 ],
 "metadata": {
  "kernelspec": {
   "display_name": "Python 3 (ipykernel)",
   "language": "python",
   "name": "python3"
  },
  "language_info": {
   "codemirror_mode": {
    "name": "ipython",
    "version": 3
   },
   "file_extension": ".py",
   "mimetype": "text/x-python",
   "name": "python",
   "nbconvert_exporter": "python",
   "pygments_lexer": "ipython3",
   "version": "3.11.5"
  }
 },
 "nbformat": 4,
 "nbformat_minor": 5
}
