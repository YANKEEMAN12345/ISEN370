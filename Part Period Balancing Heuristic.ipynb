{
 "cells": [
  {
   "cell_type": "code",
   "execution_count": 7,
   "id": "3bbe321c-135a-43e3-8a2a-b89ab7b53d2c",
   "metadata": {},
   "outputs": [
    {
     "name": "stdout",
     "output_type": "stream",
     "text": [
      "Part Period Balancing Lot Sizing Heuristic:\n",
      " Period  Requirements  Production  Ending Inventory\n",
      "      1            18          48                30\n",
      "      2            30           0                 0\n",
      "      3            42          67                25\n",
      "      4             5           0                20\n",
      "      5            20           0                 0\n",
      "Total Cost:  825\n"
     ]
    }
   ],
   "source": [
    "import pandas as pd\n",
    "\n",
    "def part_period_balancing(requirements, setup_cost, holding_cost, initial_inventory):\n",
    "    periods = len(requirements)\n",
    "    i = 0\n",
    "    ending_inventory = 0\n",
    "    total_cost = 0\n",
    "    detailed_plan = []\n",
    "    \n",
    "    # Adjust the first period's requirement based on initial inventory\n",
    "    if periods > 0:\n",
    "        effective_requirement = max(0, requirements[0] - initial_inventory)\n",
    "        requirements = [effective_requirement] + requirements[1:]\n",
    "    \n",
    "    while i < periods:\n",
    "        cumulative_holding_cost = 0\n",
    "        best_j = i\n",
    "        \n",
    "        for j in range(i, periods):\n",
    "            cumulative_holding_cost += holding_cost * (j - i) * requirements[j]\n",
    "            \n",
    "            if cumulative_holding_cost >= setup_cost:\n",
    "                break\n",
    "            \n",
    "            best_j = j\n",
    "        \n",
    "        # If cumulative holding cost exceeds setup cost, choose the best period\n",
    "        if j < periods and cumulative_holding_cost > setup_cost:\n",
    "            previous_holding_cost = cumulative_holding_cost - holding_cost * (j - i) * requirements[j]\n",
    "            if abs(previous_holding_cost - setup_cost) < abs(cumulative_holding_cost - setup_cost):\n",
    "                best_j = j - 1\n",
    "                cumulative_holding_cost = previous_holding_cost\n",
    "        \n",
    "        total_production = sum(requirements[i:best_j + 1])\n",
    "        \n",
    "        if total_production > 0:\n",
    "            total_cost += setup_cost  # Add setup cost once for the batch\n",
    "        \n",
    "        for k in range(i, best_j + 1):\n",
    "            if k == i:\n",
    "                production_amount = total_production\n",
    "            else:\n",
    "                production_amount = 0\n",
    "            \n",
    "            inventory_cost = ending_inventory * holding_cost\n",
    "            total_cost += inventory_cost\n",
    "            ending_inventory += production_amount - requirements[k]\n",
    "            ending_inventory = max(0, ending_inventory)\n",
    "            detailed_plan.append((k + 1, requirements[k], production_amount, ending_inventory))\n",
    "        \n",
    "        i = best_j + 1\n",
    "    \n",
    "    df = pd.DataFrame(detailed_plan, columns=['Period', 'Requirements', 'Production', 'Ending Inventory'])\n",
    "    return df, total_cost\n",
    "\n",
    "# Example usage\n",
    "requirements = [18, 30, 42, 5, 20]\n",
    "setup_cost = 300\n",
    "holding_cost = 3\n",
    "initial_inventory = 0\n",
    "\n",
    "print(\"Part Period Balancing Lot Sizing Heuristic:\")\n",
    "df, cost = part_period_balancing(requirements, setup_cost, holding_cost, initial_inventory)\n",
    "print(df.to_string(index=False))\n",
    "print(\"Total Cost: \", cost)\n"
   ]
  },
  {
   "cell_type": "code",
   "execution_count": null,
   "id": "6e6a9163-4a55-45ab-b164-3312978ac4a4",
   "metadata": {},
   "outputs": [],
   "source": []
  }
 ],
 "metadata": {
  "kernelspec": {
   "display_name": "Python 3 (ipykernel)",
   "language": "python",
   "name": "python3"
  },
  "language_info": {
   "codemirror_mode": {
    "name": "ipython",
    "version": 3
   },
   "file_extension": ".py",
   "mimetype": "text/x-python",
   "name": "python",
   "nbconvert_exporter": "python",
   "pygments_lexer": "ipython3",
   "version": "3.11.7"
  }
 },
 "nbformat": 4,
 "nbformat_minor": 5
}
