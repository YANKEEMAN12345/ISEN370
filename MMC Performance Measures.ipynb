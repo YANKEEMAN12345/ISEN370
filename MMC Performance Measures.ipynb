{
 "cells": [
  {
   "cell_type": "markdown",
   "id": "c16e153e-f4c7-42f1-b28a-a1b3a1e725e0",
   "metadata": {},
   "source": [
    "# Imports (Run First)"
   ]
  },
  {
   "cell_type": "code",
   "execution_count": 4,
   "id": "94173bf3-9f6a-4464-a4c6-7c3ca4290a20",
   "metadata": {},
   "outputs": [],
   "source": [
    "## Display in Notebook\n",
    "from IPython.core.interactiveshell import InteractiveShell\n",
    "InteractiveShell.ast_node_interactivity = \"all\"\n",
    "import numpy as np\n",
    "import pandas as pd\n",
    "## for plotting\n",
    "import matplotlib.pyplot as plt\n",
    "import seaborn as sns\n",
    "import plotly.express as px\n",
    "import plotly.io as pio\n",
    "pio.renderers.default='notebook'\n",
    "import warnings\n",
    "warnings.filterwarnings('ignore')"
   ]
  },
  {
   "cell_type": "markdown",
   "id": "1859c975-1800-457e-88c7-0d6bcaeb3cbb",
   "metadata": {},
   "source": [
    "# Compute P0 for Single Queue"
   ]
  },
  {
   "cell_type": "code",
   "execution_count": 5,
   "id": "a4b7e764-1021-42a5-be34-8c0fc3e363a7",
   "metadata": {},
   "outputs": [
    {
     "data": {
      "text/plain": [
       "0.11111111111111106"
      ]
     },
     "execution_count": 5,
     "metadata": {},
     "output_type": "execute_result"
    }
   ],
   "source": [
    "# lamb is arrival rate\n",
    "# mu is service rate of 1 server\n",
    "# C is number of servers\n",
    "\n",
    "def mmc_p0(lamb:float,mu:float,C:int): # Computes the probability that zero is in the system\n",
    "\n",
    "    #define empty probability list\n",
    "    P0 = 0\n",
    "    #compute ro\n",
    "    ro = lamb / (mu*C)\n",
    "    #print(ro)\n",
    "    #compute P0\n",
    "    part1 = ((C*ro)**C) / ((1-ro)*np.math.factorial(C))\n",
    "    part2=0\n",
    "    for i in np.arange(0,C,1): # Note: Does not do C\n",
    "        part2 = part2 + ((C*ro)**i) / np.math.factorial(i)\n",
    "    P0 = 1/(part1+part2)\n",
    "    return P0\n",
    "\n",
    "# Edit these values below\n",
    "mmc_p0(lamb=4, mu=2.5, C=2)"
   ]
  },
  {
   "cell_type": "markdown",
   "id": "be5fd374-5088-4917-b4cf-a8ebcbe18de1",
   "metadata": {},
   "source": [
    "# Compute Performance Measures for a Single Queue"
   ]
  },
  {
   "cell_type": "code",
   "execution_count": 6,
   "id": "e74abd31-8546-4814-80ea-54d2b10bef0f",
   "metadata": {},
   "outputs": [
    {
     "data": {
      "text/html": [
       "<div>\n",
       "<style scoped>\n",
       "    .dataframe tbody tr th:only-of-type {\n",
       "        vertical-align: middle;\n",
       "    }\n",
       "\n",
       "    .dataframe tbody tr th {\n",
       "        vertical-align: top;\n",
       "    }\n",
       "\n",
       "    .dataframe thead th {\n",
       "        text-align: right;\n",
       "    }\n",
       "</style>\n",
       "<table border=\"1\" class=\"dataframe\">\n",
       "  <thead>\n",
       "    <tr style=\"text-align: right;\">\n",
       "      <th></th>\n",
       "      <th>Pi_0</th>\n",
       "      <th>Lambda</th>\n",
       "      <th>Mu</th>\n",
       "      <th>C</th>\n",
       "      <th>Ro</th>\n",
       "      <th>Lq</th>\n",
       "      <th>L</th>\n",
       "      <th>Wq</th>\n",
       "      <th>W</th>\n",
       "    </tr>\n",
       "  </thead>\n",
       "  <tbody>\n",
       "    <tr>\n",
       "      <th>0</th>\n",
       "      <td>0.52381</td>\n",
       "      <td>3.75</td>\n",
       "      <td>6.0</td>\n",
       "      <td>2.0</td>\n",
       "      <td>0.3125</td>\n",
       "      <td>0.067641</td>\n",
       "      <td>0.692641</td>\n",
       "      <td>0.018038</td>\n",
       "      <td>0.184704</td>\n",
       "    </tr>\n",
       "  </tbody>\n",
       "</table>\n",
       "</div>"
      ],
      "text/plain": [
       "      Pi_0  Lambda   Mu    C      Ro        Lq         L        Wq         W\n",
       "0  0.52381    3.75  6.0  2.0  0.3125  0.067641  0.692641  0.018038  0.184704"
      ]
     },
     "execution_count": 6,
     "metadata": {},
     "output_type": "execute_result"
    }
   ],
   "source": [
    "#compute performance measures\n",
    "# lamb is arrival rate\n",
    "# mu is service rate of 1 server\n",
    "# C is number of servers\n",
    "\n",
    "\n",
    "def mmc_PM(lamb:float,mu:float,C:int):\n",
    "    P0 = mmc_p0(lamb,mu,C)\n",
    "    ro = lamb / (mu*C)\n",
    "    #print(ro)\n",
    "  \n",
    "    # Compute Performance Measures\n",
    "    Lq = (ro*P0*  ( (C*ro)**C ) ) / ( np.math.factorial(C) * ( (1-ro)**2 ) )\n",
    "    L = Lq + lamb/mu\n",
    "    Wq = (1/lamb)*Lq\n",
    "    W = Wq+1/mu\n",
    " \n",
    "    # Put in a dataframe and name columns\n",
    "    PM = [P0,lamb,mu,C,ro,Lq,L,Wq,W]\n",
    "    PM = pd.DataFrame(PM)\n",
    "    PM=PM.T\n",
    "    PM.columns = ['Pi_0','Lambda','Mu','C','Ro','Lq','L','Wq','W']\n",
    " \n",
    "    return PM\n",
    "\n",
    "# Edit these values below\n",
    "\n",
    "mmc_PM(lamb=15/4, mu=6, C=2)"
   ]
  },
  {
   "cell_type": "code",
   "execution_count": null,
   "id": "636805e8-4359-41f7-a337-11cb9a356b25",
   "metadata": {},
   "outputs": [],
   "source": []
  }
 ],
 "metadata": {
  "kernelspec": {
   "display_name": "Python 3 (ipykernel)",
   "language": "python",
   "name": "python3"
  },
  "language_info": {
   "codemirror_mode": {
    "name": "ipython",
    "version": 3
   },
   "file_extension": ".py",
   "mimetype": "text/x-python",
   "name": "python",
   "nbconvert_exporter": "python",
   "pygments_lexer": "ipython3",
   "version": "3.11.5"
  }
 },
 "nbformat": 4,
 "nbformat_minor": 5
}
